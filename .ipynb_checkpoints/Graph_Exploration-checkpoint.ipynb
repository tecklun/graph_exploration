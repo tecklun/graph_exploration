{
 "cells": [
  {
   "cell_type": "markdown",
   "metadata": {},
   "source": [
    "# Exploration of NetworkX and Other Graph Neural Network Libraries"
   ]
  },
  {
   "cell_type": "code",
   "execution_count": 1,
   "metadata": {},
   "outputs": [],
   "source": [
    "# Import relevant libraries\n",
    "import networkx as nx"
   ]
  },
  {
   "cell_type": "code",
   "execution_count": 71,
   "metadata": {},
   "outputs": [],
   "source": [
    "G = nx.Graph()   # Initialize an empty graph G"
   ]
  },
  {
   "cell_type": "markdown",
   "metadata": {},
   "source": [
    "## Adding Nodes to Graph"
   ]
  },
  {
   "cell_type": "code",
   "execution_count": 84,
   "metadata": {},
   "outputs": [],
   "source": [
    "# Different Methods to add nodes\n",
    "\n",
    "# Add single node\n",
    "G.add_node(\"node1\")                 # Add node with name \"node1\"\n",
    "G.add_node(\"node2\", index = 5)      # Add node with name \"node2\", with node attribute index = 5. Attribute key can be anything\n",
    "G.add_node(5, gtl_name = \"teck\", sex = 'male')     # Add node with name 5, with 2 attributes\n",
    "\n",
    "# Add multiple nodes (any iterable container works)\n",
    "G.add_nodes_from([6,  7])            # Add nodes 6 and 7 \n",
    "G.add_nodes_from({8,  9})             # Add nodes 8 and 9\n",
    "G.add_nodes_from((10, 11))           # Add nodes 10 and 11\n",
    "\n",
    "# Add multiple nodes with attributes - can only use list container else error\n",
    "G.add_nodes_from([('dict_node1' , {'first_att': 'red', \\\n",
    "                                  'sec_att': 5}), \\\n",
    "                   (12, {'string_type': 'int',\\\n",
    "                        'what': 10})])"
   ]
  },
  {
   "cell_type": "code",
   "execution_count": 85,
   "metadata": {},
   "outputs": [
    {
     "data": {
      "text/plain": [
       "NodeDataView({'Hnode1': {'att1': 'peace', 'att2': 'war'}, 'Hnode2': {'att1': 'fighting', 'att2': 'loving'}})"
      ]
     },
     "execution_count": 85,
     "metadata": {},
     "output_type": "execute_result"
    }
   ],
   "source": [
    "H = nx.Graph()\n",
    "H.add_nodes_from([(\"Hnode1\", {'att1': 'peace', 'att2': 'war'}), (\"Hnode2\", {'att1': 'fighting', 'att2': 'loving'})])\n",
    "H.nodes.data()"
   ]
  },
  {
   "cell_type": "code",
   "execution_count": 86,
   "metadata": {},
   "outputs": [
    {
     "data": {
      "text/plain": [
       "NodeDataView({'node1': {}, 'node2': {'index': 5}, 5: {'gtl_name': 'teck', 'sex': 'male'}, 6: {}, 7: {}, 8: {}, 9: {}, 10: {}, 11: {}, 'dict_node1': {'first_att': 'red', 'sec_att': 5}, 12: {'string_type': 'int', 'what': 10}})"
      ]
     },
     "execution_count": 86,
     "metadata": {},
     "output_type": "execute_result"
    }
   ],
   "source": [
    "G.nodes.data()"
   ]
  },
  {
   "cell_type": "code",
   "execution_count": 87,
   "metadata": {},
   "outputs": [],
   "source": [
    "# G.add_node(H)          # Adding Graph H to G in this way will make the entire graph H a node of G\n",
    "G.add_nodes_from(H)      # Adding Graph H to G in this way will add nodes of Graph H to that of G. However, attributes of nodes in H seemed to be removed"
   ]
  },
  {
   "cell_type": "code",
   "execution_count": 108,
   "metadata": {},
   "outputs": [
    {
     "data": {
      "text/plain": [
       "NodeDataView({'node1': {}, 'node2': {'index': 5}, 5: {'gtl_name': 'teck', 'sex': 'male'}, 6: {}, 7: {}, 8: {}, 9: {}, 10: {}, 11: {}, 'dict_node1': {'first_att': 'red', 'sec_att': 5}, 12: {'string_type': 'int', 'what': 10}, 'Hnode1': {}, 'Hnode2': {}})"
      ]
     },
     "execution_count": 108,
     "metadata": {},
     "output_type": "execute_result"
    }
   ],
   "source": [
    "G.nodes.data()           # Can use list(G.nodes.data()) to return a list format"
   ]
  },
  {
   "cell_type": "code",
   "execution_count": 89,
   "metadata": {},
   "outputs": [],
   "source": [
    "# G.clear()    # To clear all node, edges from Graph. "
   ]
  },
  {
   "cell_type": "markdown",
   "metadata": {},
   "source": [
    "## Adding Edges to Graph"
   ]
  },
  {
   "cell_type": "code",
   "execution_count": 101,
   "metadata": {},
   "outputs": [],
   "source": [
    "# Different ways to add edge to graph\n",
    "G.add_edge('node1', 'node2')         # Add edge between node1 and node2\n",
    "assigned_edge = (7, 8)\n",
    "G.add_edge(*assigned_edge)           # Use * to unpack the edge tuple\n",
    "\n",
    "\n",
    "G.add_edges_from([(5, 6), (6, 7)])   # Add edges between nodes 5 and 6; and nodes 6 and 7\n",
    "G.add_edges_from([('node2', 5, {'edge_att1': 10, 'edge_att2': 'rand'})])   # Add edge between 'node2' and 5, with 2 edge attributes\n",
    "assigned_edges = [(8, 9), (9, 10), (10, 11)]\n",
    "G.add_edges_from(assigned_edges)     # No need unpacking if is a list of edges to add\n"
   ]
  },
  {
   "cell_type": "code",
   "execution_count": 106,
   "metadata": {},
   "outputs": [
    {
     "data": {
      "text/plain": [
       "[('node1', 'node2', {}),\n",
       " ('node2', 5, {'edge_att1': 10, 'edge_att2': 'rand'}),\n",
       " (5, 6, {}),\n",
       " (6, 7, {}),\n",
       " (7, 8, {}),\n",
       " (8, 9, {}),\n",
       " (9, 10, {}),\n",
       " (10, 11, {})]"
      ]
     },
     "execution_count": 106,
     "metadata": {},
     "output_type": "execute_result"
    }
   ],
   "source": [
    "G.edges.data()"
   ]
  },
  {
   "cell_type": "code",
   "execution_count": null,
   "metadata": {},
   "outputs": [],
   "source": []
  }
 ],
 "metadata": {
  "kernelspec": {
   "display_name": "Python 3",
   "language": "python",
   "name": "python3"
  },
  "language_info": {
   "codemirror_mode": {
    "name": "ipython",
    "version": 3
   },
   "file_extension": ".py",
   "mimetype": "text/x-python",
   "name": "python",
   "nbconvert_exporter": "python",
   "pygments_lexer": "ipython3",
   "version": "3.8.3"
  }
 },
 "nbformat": 4,
 "nbformat_minor": 4
}
